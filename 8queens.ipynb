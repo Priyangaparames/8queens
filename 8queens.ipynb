{
 "cells": [
  {
   "cell_type": "code",
   "execution_count": 12,
   "metadata": {},
   "outputs": [
    {
     "name": "stdout",
     "output_type": "stream",
     "text": [
      "No.of Iterations :  458\n",
      "Possibilities within given Iterations :  [5, 2, 0, 7, 4, 1, 3, 6]\n"
     ]
    }
   ],
   "source": [
    "import random\n",
    "n=8\n",
    "rw= [0,1,2,3,4,5,6,7]\n",
    "mini = 0\n",
    "maxi =500 #no of iterations\n",
    "\n",
    "flag = [0,0,0,0,0,0,0,0]  \n",
    "\n",
    "#print (rw,maxi,mini)\n",
    "#Generate randon numbers\n",
    "while mini <= maxi:\n",
    "    randomlist = random.sample(range(0,n), n)\n",
    "    sol= randomlist  \n",
    "    for i in range(0,n):\n",
    "        score=0\n",
    "        for j in range(0,n):\n",
    "            if ((rw[i] != rw[j]) & (sol[i]!= sol[j]) & (abs(rw[i]- rw[j]) != abs(sol[i]-sol[j]))):\n",
    "               # print(i,j,abs(rw[i]- rw[j]),abs(sol[i]-sol[j]),score)\n",
    "                score += 1\n",
    "              #  print(i,j,abs(rw[i]- sol[i]),abs(rw[j]-sol[j]),score)\n",
    "            if score == 7:\n",
    "                flag [i]=1\n",
    "                if (flag.count(1) == n ):\n",
    "                    print( \"No.of Iterations : \",mini)\n",
    "                    print( \"Result set within given Iterations : \",sol)\n",
    "                    break       \n",
    "          \n",
    "    flag = [0,0,0,0,0,0,0,0]              \n",
    "    \n",
    "    mini += 1\n",
    "   \n",
    " \n",
    "#print (sol)"
   ]
  },
  {
   "cell_type": "code",
   "execution_count": null,
   "metadata": {},
   "outputs": [],
   "source": []
  }
 ],
 "metadata": {
  "kernelspec": {
   "display_name": "Python 3",
   "language": "python",
   "name": "python3"
  },
  "language_info": {
   "codemirror_mode": {
    "name": "ipython",
    "version": 3
   },
   "file_extension": ".py",
   "mimetype": "text/x-python",
   "name": "python",
   "nbconvert_exporter": "python",
   "pygments_lexer": "ipython3",
   "version": "3.7.6"
  }
 },
 "nbformat": 4,
 "nbformat_minor": 4
}
